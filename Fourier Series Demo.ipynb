{
 "cells": [
  {
   "cell_type": "code",
   "execution_count": 2,
   "metadata": {},
   "outputs": [],
   "source": [
    "import plotly.graph_objects as go\n",
    "import numpy as np\n",
    "import pandas as pd\n",
    "import plotly.express as px\n",
    "# from dash import jupyter_dash\n",
    "from dash import Dash, dcc, html, Input, Output, callback"
   ]
  },
  {
   "cell_type": "markdown",
   "metadata": {},
   "source": [
    "To be edited:\n",
    "Demo of Fourier series expansion with Binder."
   ]
  },
  {
   "cell_type": "code",
   "execution_count": 3,
   "metadata": {},
   "outputs": [],
   "source": [
    "def update_plot(plotly_fig, labels):\n",
    "    plotly_fig.update_layout(\n",
    "        title=labels['title'],\n",
    "        xaxis_title=labels['x'],\n",
    "        yaxis_title=labels['y'],\n",
    "        )\n",
    "    return\n",
    "\n",
    "def cosine_coeff(sig, n, L):\n",
    "    integrand = sig * np.cos(n * time * (np.pi / L))\n",
    "    coeff = (1 / L) * integrand.sum()\n",
    "    return coeff\n",
    "\n",
    "def sine_coeff(sig, n, L):\n",
    "    integrand = sig * np.sin(n * time * (np.pi / L))\n",
    "    coeff = (1 / L) * integrand.sum()\n",
    "    return coeff\n",
    "\n",
    "def get_coeff(sig, n, L):\n",
    "    inner_prod = sig * np.exp(-2 * 1j * n * time * (np.pi / L))\n",
    "    c_n = inner_prod.sum() / L\n",
    "    return c_n\n",
    "\n",
    "def generate_series(sig, num_terms):\n",
    "    series = np.zeros(len(f))\n",
    "    series += np.mean(f)\n",
    "    if num_terms < 1:\n",
    "        return np.zeros(len(f))\n",
    "    elif num_terms < 2:\n",
    "        return series\n",
    "    for idx in range(1, num_terms):\n",
    "        cosine_term = cosine_coeff(f, idx, L) * np.cos(idx * time * (np.pi / L))\n",
    "        sine_term = sine_coeff(f, idx, L) * np.sin(idx * time * (np.pi / L))\n",
    "        series += cosine_term + sine_term\n",
    "    # Debug\n",
    "    series =  2 * np.pi * (series - np.min(series)) / (np.max(series) - np.min(series))\n",
    "    return series"
   ]
  },
  {
   "cell_type": "code",
   "execution_count": 4,
   "metadata": {},
   "outputs": [
    {
     "data": {
      "text/html": [
       "\n",
       "        <iframe\n",
       "            width=\"100%\"\n",
       "            height=\"650\"\n",
       "            src=\"http://127.0.0.1:8050/\"\n",
       "            frameborder=\"0\"\n",
       "            allowfullscreen\n",
       "        ></iframe>\n",
       "        "
      ],
      "text/plain": [
       "<IPython.lib.display.IFrame at 0x2a2c400e588>"
      ]
     },
     "metadata": {},
     "output_type": "display_data"
    }
   ],
   "source": [
    "# Generate data\n",
    "num_points = 400\n",
    "time = np.linspace(-np.pi, np.pi, num_points)\n",
    "L = 2 * np.pi\n",
    "f = np.array([np.mod(t, L) for t in time])\n",
    "df = pd.DataFrame()\n",
    "for num_terms in range(0, 100, 2):\n",
    "    reconstruction = generate_series(f, num_terms)\n",
    "    new_df = pd.DataFrame({\n",
    "        'Time': time,\n",
    "        'Signal': reconstruction,\n",
    "        })\n",
    "    new_df['Term'] = num_terms\n",
    "    df = pd.concat([df, new_df])\n",
    "\n",
    "# Plotting\n",
    "labels = {\n",
    "    'title': f'Fourier Series Expansion',\n",
    "    'x': 'Time',\n",
    "    'y': 'Signal',\n",
    "    }\n",
    "fig = px.line(\n",
    "    df,\n",
    "    x=\"Time\",\n",
    "    y=\"Signal\",\n",
    "    animation_frame=\"Term\",\n",
    "    range_y=[df['Signal'].min(), df['Signal'].max()],\n",
    "    )\n",
    "fig.add_trace(go.Scatter(x=time, y=f, name='Original'))\n",
    "update_plot(fig, labels)\n",
    "\n",
    "# GUI\n",
    "app = Dash(__name__)\n",
    "app.layout = html.Div([\n",
    "    dcc.Graph(id='main_plot', figure=fig)\n",
    "    ])\n",
    "app.run(debug=True)"
   ]
  },
  {
   "cell_type": "code",
   "execution_count": null,
   "metadata": {},
   "outputs": [],
   "source": []
  }
 ],
 "metadata": {
  "kernelspec": {
   "display_name": "Python 3",
   "language": "python",
   "name": "python3"
  },
  "language_info": {
   "codemirror_mode": {
    "name": "ipython",
    "version": 3
   },
   "file_extension": ".py",
   "mimetype": "text/x-python",
   "name": "python",
   "nbconvert_exporter": "python",
   "pygments_lexer": "ipython3",
   "version": "3.7.6"
  }
 },
 "nbformat": 4,
 "nbformat_minor": 4
}
